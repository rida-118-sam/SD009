{
 "cells": [
  {
   "cell_type": "code",
   "execution_count": 1,
   "id": "73fd0449-b623-4acf-a19f-d3c983940e21",
   "metadata": {},
   "outputs": [
    {
     "name": "stdout",
     "output_type": "stream",
     "text": [
      "installed\n"
     ]
    }
   ],
   "source": [
    "import pymongo\n",
    "print(\"installed\")"
   ]
  },
  {
   "cell_type": "code",
   "execution_count": 9,
   "id": "1b5918c5-2866-489f-be4d-423ade75151d",
   "metadata": {},
   "outputs": [
    {
     "name": "stdout",
     "output_type": "stream",
     "text": [
      "200 posts inserted.\n",
      "100 users inserted.\n"
     ]
    }
   ],
   "source": [
    "from pymongo import MongoClient\n",
    "import random\n",
    "import string\n",
    "\n",
    "# MongoDB connection\n",
    "client = MongoClient(\"mongodb://localhost:27017/\")\n",
    "db = client[\"your_db\"]\n",
    "posts_col = db[\"posts\"]\n",
    "users_col = db[\"users\"]\n",
    "\n",
    "# Clear previous data\n",
    "posts_col.delete_many({})\n",
    "users_col.delete_many({})\n",
    "\n",
    "# Tags pool\n",
    "tags_pool = [\"travel\", \"sports\", \"fashion\", \"technology\", \"health\", \"education\", \"entertainment\", \"news\", \"music\", \"finance\"]\n",
    "\n",
    "# Generating random strings\n",
    "def random_text(word_count=5):\n",
    "    return ' '.join(''.join(random.choices(string.ascii_lowercase, k=random.randint(4, 8))) for _ in range(word_count))\n",
    "\n",
    "# Creating 200 sample posts\n",
    "sample_posts = []\n",
    "for _ in range(200):\n",
    "    title = random_text(4).title()\n",
    "    description = random_text(10)\n",
    "    tags = random.sample(tags_pool, k=random.randint(1, 3))\n",
    "    sample_posts.append({\"title\": title, \"description\": description, \"tags\": tags})\n",
    "\n",
    "posts_col.insert_many(sample_posts)\n",
    "print(\"200 posts inserted.\")\n",
    "\n",
    "# Creating 100 users with liked posts and preferences\n",
    "all_posts = list(posts_col.find())\n",
    "for i in range(100):\n",
    "    user_id = f\"user{i:03d}\"\n",
    "    preferred_tags = random.sample(tags_pool, k=2)\n",
    "    liked_posts = [str(random.choice(all_posts)[\"_id\"]) for _ in range(random.randint(1, 5))]\n",
    "    users_col.insert_one({\n",
    "        \"user_id\": user_id,\n",
    "        \"preferred_tags\": preferred_tags,\n",
    "        \"liked_posts\": liked_posts\n",
    "    })\n",
    "\n",
    "print(\"100 users inserted.\")"
   ]
  },
  {
   "cell_type": "code",
   "execution_count": 10,
   "id": "1006d3c4-e090-4472-b6db-2b20a7e33e39",
   "metadata": {},
   "outputs": [],
   "source": [
    "from sklearn.feature_extraction.text import TfidfVectorizer\n",
    "from sklearn.metrics.pairwise import cosine_similarity\n",
    "import numpy as np\n",
    "\n",
    "def recommend_for_user(user_id, top_n=5):\n",
    "    user = users_col.find_one({\"user_id\": user_id})\n",
    "    if not user:\n",
    "        print(\"❌ User not found.\")\n",
    "        return\n",
    "\n",
    "    liked_post_ids = user.get(\"liked_posts\", [])\n",
    "    preferred_tags = user.get(\"preferred_tags\", [])\n",
    "\n",
    "    all_posts = list(posts_col.find({}, {\"_id\": 1, \"title\": 1, \"description\": 1, \"tags\": 1}))\n",
    "    post_ids = [str(post[\"_id\"]) for post in all_posts]\n",
    "    post_texts = [f\"{post.get('title', '')} {post.get('description', '')}\" for post in all_posts]\n",
    "\n",
    "    vectorizer = TfidfVectorizer()\n",
    "    tfidf_matrix = vectorizer.fit_transform(post_texts)\n",
    "\n",
    "    liked_indexes = [i for i, pid in enumerate(post_ids) if pid in liked_post_ids]\n",
    "    if not liked_indexes:\n",
    "        tag_filtered_indexes = [\n",
    "            i for i, post in enumerate(all_posts)\n",
    "            if any(tag in post.get(\"tags\", []) for tag in preferred_tags)\n",
    "        ]\n",
    "        if not tag_filtered_indexes:\n",
    "            print(\" No preference matches. Showing random content.\")\n",
    "            return\n",
    "        liked_vector = tfidf_matrix[tag_filtered_indexes].mean(axis=0)\n",
    "    else:\n",
    "        liked_vector = tfidf_matrix[liked_indexes].mean(axis=0)\n",
    "\n",
    "    liked_vector = np.asarray(liked_vector).reshape(1, -1)\n",
    "    similarities = cosine_similarity(tfidf_matrix, liked_vector)\n",
    "\n",
    "    recommend_indexes = [\n",
    "        i for i in np.argsort(similarities.ravel())[::-1]\n",
    "        if post_ids[i] not in liked_post_ids\n",
    "    ]\n",
    "\n",
    "    print(f\"\\n🔮 Recommendations for user: {user_id}\\n\")\n",
    "    for idx in recommend_indexes[:top_n]:\n",
    "        print(f\"- {all_posts[idx]['title']} (Tags: {all_posts[idx].get('tags', [])})\")"
   ]
  },
  {
   "cell_type": "code",
   "execution_count": null,
   "id": "845ff78a-f87a-4792-bf62-6c93d8558944",
   "metadata": {},
   "outputs": [],
   "source": []
  }
 ],
 "metadata": {
  "kernelspec": {
   "display_name": "Python [conda env:base] *",
   "language": "python",
   "name": "conda-base-py"
  },
  "language_info": {
   "codemirror_mode": {
    "name": "ipython",
    "version": 3
   },
   "file_extension": ".py",
   "mimetype": "text/x-python",
   "name": "python",
   "nbconvert_exporter": "python",
   "pygments_lexer": "ipython3",
   "version": "3.12.7"
  }
 },
 "nbformat": 4,
 "nbformat_minor": 5
}
